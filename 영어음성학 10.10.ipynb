{
 "cells": [
  {
   "cell_type": "code",
   "execution_count": 2,
   "metadata": {},
   "outputs": [
    {
     "name": "stdout",
     "output_type": "stream",
     "text": [
      "1\n",
      "2\n",
      "3\n",
      "4\n"
     ]
    }
   ],
   "source": [
    "a = [1,2,3,4]\n",
    "for i in a:\n",
    "    print(i)\n",
    "#in 뒤에 있는걸 하나씩 받아서 print를 해라"
   ]
  },
  {
   "cell_type": "code",
   "execution_count": 3,
   "metadata": {},
   "outputs": [
    {
     "name": "stdout",
     "output_type": "stream",
     "text": [
      "1\n",
      "2\n",
      "3\n",
      "4\n"
     ]
    }
   ],
   "source": [
    "a = [1,2,3,4]\n",
    "for i in range(4):\n",
    "    print(a[i])\n",
    "#range뒤에 숫자가 나오면 list를 만들어준다고 생각하면 됨. Range(4) = 4개의 인덱스, 0,1,2,3을 만들어라."
   ]
  },
  {
   "cell_type": "code",
   "execution_count": 6,
   "metadata": {},
   "outputs": [
    {
     "name": "stdout",
     "output_type": "stream",
     "text": [
      "0\n",
      "1\n",
      "2\n",
      "3\n"
     ]
    }
   ],
   "source": [
    "a = [1,2,3,4]\n",
    "for i in range(4):\n",
    "    print(i)\n",
    "#출력결과 0, 1, 2, 3임에 주의."
   ]
  },
  {
   "cell_type": "code",
   "execution_count": 7,
   "metadata": {},
   "outputs": [
    {
     "name": "stdout",
     "output_type": "stream",
     "text": [
      "1\n",
      "2\n",
      "3\n",
      "4\n",
      "5\n",
      "6\n",
      "7\n"
     ]
    }
   ],
   "source": [
    "a = [1,2,3,4,5,6,7]\n",
    "for i in range(len(a)):\n",
    "    print(a[i])\n",
    "#보통 4 대신에 len(a)로 쓰는게 좋음."
   ]
  },
  {
   "cell_type": "code",
   "execution_count": 8,
   "metadata": {},
   "outputs": [
    {
     "name": "stdout",
     "output_type": "stream",
     "text": [
      "red\n",
      "green\n",
      "blue\n",
      "purple\n"
     ]
    }
   ],
   "source": [
    "a = ['red','green','blue','purple']\n",
    "print(a[0])\n",
    "print(a[1])\n",
    "print(a[2])\n",
    "print(a[3])\n",
    "#이렇게 해도 되지만 너무 노가다니까"
   ]
  },
  {
   "cell_type": "code",
   "execution_count": 9,
   "metadata": {},
   "outputs": [
    {
     "name": "stdout",
     "output_type": "stream",
     "text": [
      "red\n",
      "green\n",
      "blue\n",
      "purple\n"
     ]
    }
   ],
   "source": [
    "a = ['red','green','blue','purple']\n",
    "for s in a:\n",
    "    print(s)\n",
    "#In 다음에 range써서 똑같은 결과 나오도록 해보세요"
   ]
  },
  {
   "cell_type": "code",
   "execution_count": 10,
   "metadata": {},
   "outputs": [
    {
     "name": "stdout",
     "output_type": "stream",
     "text": [
      "red\n",
      "green\n",
      "blue\n",
      "purple\n"
     ]
    }
   ],
   "source": [
    "a = ['red','green','blue','purple']\n",
    "for s in range(len(a)):\n",
    "    print(a[s])"
   ]
  },
  {
   "cell_type": "code",
   "execution_count": 11,
   "metadata": {},
   "outputs": [
    {
     "name": "stdout",
     "output_type": "stream",
     "text": [
      "['red', 'green', 'blue', 'purple']\n",
      "['red', 'green', 'blue', 'purple']\n",
      "['red', 'green', 'blue', 'purple']\n",
      "['red', 'green', 'blue', 'purple']\n"
     ]
    }
   ],
   "source": [
    "a = ['red','green','blue','purple']\n",
    "for s in range(len(a)):\n",
    "    print(a)"
   ]
  },
  {
   "cell_type": "code",
   "execution_count": 12,
   "metadata": {},
   "outputs": [
    {
     "name": "stdout",
     "output_type": "stream",
     "text": [
      "0\n",
      "1\n",
      "2\n",
      "3\n"
     ]
    }
   ],
   "source": [
    "a = ['red','green','blue','purple']\n",
    "for s in range(len(a)):\n",
    "    print(s)\n",
    "#print안에 뭘 넣느냐에 따라 결과가 천지차이로 달라짐에 주의"
   ]
  },
  {
   "cell_type": "code",
   "execution_count": 14,
   "metadata": {},
   "outputs": [
    {
     "name": "stdout",
     "output_type": "stream",
     "text": [
      "red\n",
      "green\n",
      "blue\n",
      "purple\n"
     ]
    }
   ],
   "source": [
    "a = ['red','green','blue','purple']\n",
    "b=[0.2,0.3,0.1,0.4]\n",
    "for i, s in enumerate(a):\n",
    "    print(a[i])\n",
    "#enumerate는 뭐지? enumerate는 번호를 추가로 매겨준다고 생각하면 됨. 그래서 변수가 하나 늘어났지. a에 번호까지있는게 쌍으로 pair.\n",
    "#i에 0이들어가면 s에는 red가 들어간다고 생각하면 됨. 앞에있는게 번호, 뒤에있는게 자기자신이라고 생각하면 됨."
   ]
  },
  {
   "cell_type": "code",
   "execution_count": 15,
   "metadata": {},
   "outputs": [
    {
     "name": "stdout",
     "output_type": "stream",
     "text": [
      "red:20.0%\n",
      "green:30.0%\n",
      "blue:10.0%\n",
      "purple:40.0%\n"
     ]
    }
   ],
   "source": [
    "a = ['red','green','blue','purple']\n",
    "b=[0.2,0.3,0.1,0.4]\n",
    "for i, s in enumerate(a):\n",
    "    print(\"{}:{}%\".format(s,b[i]*100))\n",
    "#enumerate쓰면 i에는 index, s에는 자기자신이 들어간다고 생각하세요. 즉, 첫번째 ㅣoop에서 i에는0, s에는 red가 들어감.\n",
    "#format안에 변수두개지? 그 두 변수가 \"\"안의 format속에 그대로 박혀라 라는 뜻."
   ]
  },
  {
   "cell_type": "code",
   "execution_count": 18,
   "metadata": {},
   "outputs": [
    {
     "name": "stdout",
     "output_type": "stream",
     "text": [
      "red:20.0%\n",
      "green:30.0%\n",
      "blue:10.0%\n",
      "purple:40.0%\n"
     ]
    }
   ],
   "source": [
    "a = ['red','green','blue','purple']\n",
    "b=[0.2,0.3,0.1,0.4]\n",
    "for s, i in zip(a,b):\n",
    "    print(\"{}:{}%\".format(s,i*100))\n",
    "#zip은 서로 다른 리스트를 페어로 합치는 것. 두 리스트 원소 숫자가 똑같아야겠지.\n",
    "#첫번째 루프에서 red와 0.2가 s,i에 순서대로 들어감.\n",
    "#enumerate보다 이게 더 쉬움."
   ]
  },
  {
   "cell_type": "code",
   "execution_count": 19,
   "metadata": {},
   "outputs": [
    {
     "name": "stdout",
     "output_type": "stream",
     "text": [
      "yay!\n",
      "let's go\n"
     ]
    }
   ],
   "source": [
    "a=0\n",
    "if a==0:\n",
    "    print(\"yay!\")\n",
    "    print(\"let's go\")\n",
    "#진짜 equal sign은 ==.\n",
    "#0이 아니면을 뜻하려면 != 사용. 그럼 아니니까 아예 출력이 안되고.\n",
    "#print구문은 몇개 쓰던 상관 없음"
   ]
  },
  {
   "cell_type": "code",
   "execution_count": 20,
   "metadata": {},
   "outputs": [
    {
     "name": "stdout",
     "output_type": "stream",
     "text": [
      "no\n"
     ]
    }
   ],
   "source": [
    "a=0\n",
    "if a!=0:\n",
    "    print(\"yay!\")\n",
    "    print(\"let's go\")\n",
    "else:\n",
    "    print(\"no\")\n",
    "#~일땐 ~하고, 만약 그렇지 않으면~을 쓰려면 else구문 사용."
   ]
  },
  {
   "cell_type": "code",
   "execution_count": 22,
   "metadata": {},
   "outputs": [
    {
     "name": "stdout",
     "output_type": "stream",
     "text": [
      "3\n",
      "4\n",
      "6\n",
      "8\n"
     ]
    }
   ],
   "source": [
    "for i in range(1,3):\n",
    "    for j in range(3,5):\n",
    "        print(i*j)\n",
    "#for구문안에 또 for들어가는 경우 반드시 시험 나옴.\n",
    "#range에 변수 두개넣을때와 하나넣을때 차이 주의.\n",
    "#제일 큰 for는 1,2로 두번 돌겠지. 근데 각각 1,2를 돌때 하위 for루프도 2번 돌겠지. 그럼 총 4번\n",
    "#1*3, 1*4, 2*3, 2*4의 순서로 시행됨.\n",
    "#첫번째 for밑에 print넣으면 그 프린트는 2번만 시행됨."
   ]
  },
  {
   "cell_type": "code",
   "execution_count": 23,
   "metadata": {},
   "outputs": [
    {
     "name": "stdout",
     "output_type": "stream",
     "text": [
      "4\n",
      "8\n"
     ]
    }
   ],
   "source": [
    "for i in range(1,3):\n",
    "    for j in range(3,5):\n",
    "        if j>=4:\n",
    "            print(i*j)\n",
    "#이런 if구문 추가하면 4번 도는게 아니라 2번만 돌겠지"
   ]
  },
  {
   "cell_type": "code",
   "execution_count": 24,
   "metadata": {},
   "outputs": [
    {
     "ename": "IndentationError",
     "evalue": "expected an indented block (<ipython-input-24-12744072febf>, line 3)",
     "output_type": "error",
     "traceback": [
      "\u001b[0;36m  File \u001b[0;32m\"<ipython-input-24-12744072febf>\"\u001b[0;36m, line \u001b[0;32m3\u001b[0m\n\u001b[0;31m    for j in range(3,5):\u001b[0m\n\u001b[0m      ^\u001b[0m\n\u001b[0;31mIndentationError\u001b[0m\u001b[0;31m:\u001b[0m expected an indented block\n"
     ]
    }
   ],
   "source": [
    "for i in range(1,3):\n",
    "    if i>=3:\n",
    "    for j in range(3,5):\n",
    "            print(i*j)\n",
    "#이경우는 indent가 안들어가서 에러고."
   ]
  },
  {
   "cell_type": "code",
   "execution_count": 25,
   "metadata": {},
   "outputs": [],
   "source": [
    "for i in range(1,3):\n",
    "    if i>=3:\n",
    "        for j in range(3,5):\n",
    "            print(i*j)\n",
    "#이경우는 출력결과가 없겠지."
   ]
  },
  {
   "cell_type": "code",
   "execution_count": null,
   "metadata": {},
   "outputs": [],
   "source": []
  }
 ],
 "metadata": {
  "kernelspec": {
   "display_name": "Python 3",
   "language": "python",
   "name": "python3"
  },
  "language_info": {
   "codemirror_mode": {
    "name": "ipython",
    "version": 3
   },
   "file_extension": ".py",
   "mimetype": "text/x-python",
   "name": "python",
   "nbconvert_exporter": "python",
   "pygments_lexer": "ipython3",
   "version": "3.7.4"
  }
 },
 "nbformat": 4,
 "nbformat_minor": 2
}
