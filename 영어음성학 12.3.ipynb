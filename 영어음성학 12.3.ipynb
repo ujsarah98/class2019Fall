{
 "cells": [
  {
   "cell_type": "code",
   "execution_count": 1,
   "metadata": {},
   "outputs": [],
   "source": [
    "#pulse train으로 성대에서 나는 목소리를 만들어봤었고\n",
    "# RG = 0, BWG = 100으로 gradually 감소하는 것을 만들고\n",
    "#그렇게 쭉 하면 소리가 나왔었지. 그 소리를 s라고 했었고 그 소리로 이제 fourier transform했었지"
   ]
  },
  {
   "cell_type": "code",
   "execution_count": 6,
   "metadata": {},
   "outputs": [
    {
     "ename": "NameError",
     "evalue": "name 's' is not defined",
     "output_type": "error",
     "traceback": [
      "\u001b[0;31m---------------------------------------------------------------------------\u001b[0m",
      "\u001b[0;31mNameError\u001b[0m                                 Traceback (most recent call last)",
      "\u001b[0;32m<ipython-input-6-6ec1d3f98b73>\u001b[0m in \u001b[0;36m<module>\u001b[0;34m\u001b[0m\n\u001b[1;32m      1\u001b[0m \u001b[0;32mfrom\u001b[0m \u001b[0mscipy\u001b[0m\u001b[0;34m.\u001b[0m\u001b[0mio\u001b[0m \u001b[0;32mimport\u001b[0m \u001b[0mwavfile\u001b[0m \u001b[0;31m#이건 wave file이 없을때. 우리는 우리가 만들었던 s가지고 할거라 꼭 필요는 X\u001b[0m\u001b[0;34m\u001b[0m\u001b[0;34m\u001b[0m\u001b[0m\n\u001b[1;32m      2\u001b[0m \u001b[0;31m# sr, s = wavfile.read('a.wav')\u001b[0m\u001b[0;34m\u001b[0m\u001b[0;34m\u001b[0m\u001b[0;34m\u001b[0m\u001b[0m\n\u001b[0;32m----> 3\u001b[0;31m \u001b[0mnSamp\u001b[0m \u001b[0;34m=\u001b[0m \u001b[0mlen\u001b[0m\u001b[0;34m(\u001b[0m\u001b[0ms\u001b[0m\u001b[0;34m)\u001b[0m \u001b[0;31m#샘플의 개수가 중요함. 여기까지만 보고 밑에 두줄은 일단 보지 말고.\u001b[0m\u001b[0;34m\u001b[0m\u001b[0;34m\u001b[0m\u001b[0m\n\u001b[0m\u001b[1;32m      4\u001b[0m \u001b[0mdur\u001b[0m \u001b[0;34m=\u001b[0m \u001b[0mnSamp\u001b[0m \u001b[0;34m/\u001b[0m \u001b[0msr\u001b[0m\u001b[0;34m\u001b[0m\u001b[0;34m\u001b[0m\u001b[0m\n\u001b[1;32m      5\u001b[0m \u001b[0mt\u001b[0m \u001b[0;34m=\u001b[0m \u001b[0mnp\u001b[0m\u001b[0;34m.\u001b[0m\u001b[0mlinspace\u001b[0m\u001b[0;34m(\u001b[0m\u001b[0;36m1\u001b[0m\u001b[0;34m/\u001b[0m\u001b[0msr\u001b[0m\u001b[0;34m,\u001b[0m \u001b[0mdur\u001b[0m\u001b[0;34m,\u001b[0m \u001b[0mnSamp\u001b[0m\u001b[0;34m)\u001b[0m\u001b[0;34m\u001b[0m\u001b[0;34m\u001b[0m\u001b[0m\n",
      "\u001b[0;31mNameError\u001b[0m: name 's' is not defined"
     ]
    }
   ],
   "source": [
    "from scipy.io import wavfile #이건 wave file이 없을때. 우리는 우리가 만들었던 s가지고 할거라 꼭 필요는 X\n",
    "# sr, s = wavfile.read('a.wav')\n",
    "nSamp = len(s) #샘플의 개수가 중요함. 여기까지만 보고 밑에 두줄은 일단 보지 말고.\n",
    "dur = nSamp / sr\n",
    "t = np.linspace(1/sr, dur, nSamp)"
   ]
  },
  {
   "cell_type": "markdown",
   "metadata": {},
   "source": [
    "# Fourier transform"
   ]
  },
  {
   "cell_type": "code",
   "execution_count": 3,
   "metadata": {},
   "outputs": [
    {
     "ename": "NameError",
     "evalue": "name 'nSamp' is not defined",
     "output_type": "error",
     "traceback": [
      "\u001b[0;31m---------------------------------------------------------------------------\u001b[0m",
      "\u001b[0;31mNameError\u001b[0m                                 Traceback (most recent call last)",
      "\u001b[0;32m<ipython-input-3-9b352a8a0861>\u001b[0m in \u001b[0;36m<module>\u001b[0;34m\u001b[0m\n\u001b[0;32m----> 1\u001b[0;31m \u001b[0mnFFT\u001b[0m \u001b[0;34m=\u001b[0m \u001b[0mnSamp\u001b[0m \u001b[0;31m#target wave(어 해서 만든거)의 sample의 개수를 nFFT라는 변수에 넣었음. 여기선 100개라고 예를 들어보면\u001b[0m\u001b[0;34m\u001b[0m\u001b[0;34m\u001b[0m\u001b[0m\n\u001b[0m\u001b[1;32m      2\u001b[0m \u001b[0mamp\u001b[0m \u001b[0;34m=\u001b[0m \u001b[0;34m[\u001b[0m\u001b[0;34m]\u001b[0m\u001b[0;34m;\u001b[0m\u001b[0;34m\u001b[0m\u001b[0;34m\u001b[0m\u001b[0m\n\u001b[1;32m      3\u001b[0m \u001b[0;32mfor\u001b[0m \u001b[0mn\u001b[0m \u001b[0;32min\u001b[0m \u001b[0mrange\u001b[0m\u001b[0;34m(\u001b[0m\u001b[0;36m0\u001b[0m\u001b[0;34m,\u001b[0m\u001b[0mnFFT\u001b[0m\u001b[0;34m)\u001b[0m\u001b[0;34m:\u001b[0m \u001b[0;31m#샘플 개수만큼 for loop를 도는구나\u001b[0m\u001b[0;34m\u001b[0m\u001b[0;34m\u001b[0m\u001b[0m\n\u001b[1;32m      4\u001b[0m     \u001b[0momega\u001b[0m \u001b[0;34m=\u001b[0m \u001b[0;36m2\u001b[0m\u001b[0;34m*\u001b[0m\u001b[0mnp\u001b[0m\u001b[0;34m.\u001b[0m\u001b[0mpi\u001b[0m\u001b[0;34m*\u001b[0m\u001b[0mn\u001b[0m\u001b[0;34m/\u001b[0m\u001b[0mnFFT\u001b[0m \u001b[0;31m# angular velocity #첫번째 루프에서 w = 2파이 X 0/100, 두번째루프에서 w=2파이 X 1/100\u001b[0m\u001b[0;34m\u001b[0m\u001b[0;34m\u001b[0m\u001b[0m\n\u001b[1;32m      5\u001b[0m     \u001b[0mz\u001b[0m \u001b[0;34m=\u001b[0m \u001b[0mnp\u001b[0m\u001b[0;34m.\u001b[0m\u001b[0mexp\u001b[0m\u001b[0;34m(\u001b[0m\u001b[0momega\u001b[0m\u001b[0;34m*\u001b[0m\u001b[0;36m1j\u001b[0m\u001b[0;34m)\u001b[0m\u001b[0;34m**\u001b[0m\u001b[0;34m(\u001b[0m\u001b[0mnp\u001b[0m\u001b[0;34m.\u001b[0m\u001b[0marange\u001b[0m\u001b[0;34m(\u001b[0m\u001b[0;36m0\u001b[0m\u001b[0;34m,\u001b[0m\u001b[0mnSamp\u001b[0m\u001b[0;34m)\u001b[0m\u001b[0;34m)\u001b[0m\u001b[0;31m##exp = exponential. e의 'wi X [0...100]'승 / [2파이 X 1 [0 ... 2]]이 됨.\u001b[0m\u001b[0;34m\u001b[0m\u001b[0;34m\u001b[0m\u001b[0m\n",
      "\u001b[0;31mNameError\u001b[0m: name 'nSamp' is not defined"
     ]
    }
   ],
   "source": [
    "nFFT = nSamp #target wave(어 해서 만든거)의 sample의 개수를 nFFT라는 변수에 넣었음. 여기선 100개라고 예를 들어보면\n",
    "amp = [];\n",
    "for n in range(0,nFFT): #샘플 개수만큼 for loop를 도는구나\n",
    "    omega = 2*np.pi*n/nFFT # angular velocity #첫번째 루프에서 w = 2파이 X 0/100, 두번째루프에서 w=2파이 X 1/100\n",
    "    z = np.exp(omega*1j)**(np.arange(0,nSamp))##exp = exponential. e의 'wi X [0...100]'승 / [2파이 X 1 [0 ... 2]]이 됨.\n",
    "    amp.append(np.abs(np.dot(s,z))) # abs = 절댓값. absolute\n",
    "#loop가 다 끝나면 len(amp)값은 얼마일까? (시험문제예시)\n",
    "#amp에 허수가 들어있다 = 틀린말. 왜냐면 absolute를 해버렸기 떄문에."
   ]
  },
  {
   "cell_type": "code",
   "execution_count": null,
   "metadata": {},
   "outputs": [],
   "source": [
    "#a**3 = a의 3승. **뒤는 앞의 것의 지수로 전체가 올라간다고 생각하면 됨.\n",
    "#두번쨰 루프에서 [2파이 X 1 [0 ... 1]]이 됨. 계산하면 [0 ... 2파이]i 가 되고 그럼 한바퀴를 도는 애를 만든것.(점이 100개짜리 인거.)(물결한번꿀렁~)\n",
    "#세번째 루프에서 [2파이 X 2 [0 ... 1]]이 되고. 계싼하면 [0 ... 4파이]i 가 되고 그럼 두바퀴 도는 애를 만든 것.(물결 두번 꿀렁~~)\n",
    "#두번쨰와 세번쨰 루프의 차이는 세번쨰애는 똑같이 100개의 점을 가지고 두바퀴를 돈 거니까 점이 좀더 덜 촘촘한 것. \n",
    "#이렇게 n sample 바퀴, 100바퀴 까지 가는 것."
   ]
  },
  {
   "cell_type": "code",
   "execution_count": null,
   "metadata": {},
   "outputs": [],
   "source": [
    "#original target signal = s라고 하고, z라고 하는 부분이 complex wave를 이 루프의 개수만큼 만드는 거지.(for loop할떄마다 z는 다른 값이 됨)\n",
    "#s와 Z0부터 ZnSamp-1개 까지 전부 inner product하면\n",
    "#|a+bi|. x축 실수, y축 허수인 사분면에서 점과 원점과의 길이."
   ]
  },
  {
   "cell_type": "code",
   "execution_count": 7,
   "metadata": {},
   "outputs": [
    {
     "ename": "NameError",
     "evalue": "name 'plt' is not defined",
     "output_type": "error",
     "traceback": [
      "\u001b[0;31m---------------------------------------------------------------------------\u001b[0m",
      "\u001b[0;31mNameError\u001b[0m                                 Traceback (most recent call last)",
      "\u001b[0;32m<ipython-input-7-339e8ab255e4>\u001b[0m in \u001b[0;36m<module>\u001b[0;34m\u001b[0m\n\u001b[0;32m----> 1\u001b[0;31m \u001b[0mfig\u001b[0m \u001b[0;34m=\u001b[0m \u001b[0mplt\u001b[0m\u001b[0;34m.\u001b[0m\u001b[0mfigure\u001b[0m\u001b[0;34m(\u001b[0m\u001b[0;34m)\u001b[0m\u001b[0;34m\u001b[0m\u001b[0;34m\u001b[0m\u001b[0m\n\u001b[0m\u001b[1;32m      2\u001b[0m \u001b[0max\u001b[0m \u001b[0;34m=\u001b[0m \u001b[0mfig\u001b[0m\u001b[0;34m.\u001b[0m\u001b[0madd_subplot\u001b[0m\u001b[0;34m(\u001b[0m\u001b[0;36m111\u001b[0m\u001b[0;34m)\u001b[0m\u001b[0;34m\u001b[0m\u001b[0;34m\u001b[0m\u001b[0m\n\u001b[1;32m      3\u001b[0m \u001b[0mfreq\u001b[0m \u001b[0;34m=\u001b[0m \u001b[0mnp\u001b[0m\u001b[0;34m.\u001b[0m\u001b[0marange\u001b[0m\u001b[0;34m(\u001b[0m\u001b[0;36m1\u001b[0m\u001b[0;34m,\u001b[0m\u001b[0mnFFT\u001b[0m\u001b[0;34m+\u001b[0m\u001b[0;36m1\u001b[0m\u001b[0;34m)\u001b[0m\u001b[0;34m*\u001b[0m\u001b[0msr\u001b[0m\u001b[0;34m/\u001b[0m\u001b[0mnFFT\u001b[0m\u001b[0;34m;\u001b[0m\u001b[0;34m\u001b[0m\u001b[0;34m\u001b[0m\u001b[0m\n\u001b[1;32m      4\u001b[0m \u001b[0max\u001b[0m\u001b[0;34m.\u001b[0m\u001b[0mplot\u001b[0m\u001b[0;34m(\u001b[0m\u001b[0mfreq\u001b[0m\u001b[0;34m,\u001b[0m \u001b[0mamp\u001b[0m\u001b[0;34m)\u001b[0m\u001b[0;34m\u001b[0m\u001b[0;34m\u001b[0m\u001b[0m\n\u001b[1;32m      5\u001b[0m \u001b[0max\u001b[0m\u001b[0;34m.\u001b[0m\u001b[0mset_xlabel\u001b[0m\u001b[0;34m(\u001b[0m\u001b[0;34m'frequency (Hz)'\u001b[0m\u001b[0;34m)\u001b[0m\u001b[0;34m\u001b[0m\u001b[0;34m\u001b[0m\u001b[0m\n",
      "\u001b[0;31mNameError\u001b[0m: name 'plt' is not defined"
     ]
    }
   ],
   "source": [
    "fig = plt.figure()\n",
    "ax = fig.add_subplot(111)\n",
    "freq = np.arange(1,nFFT+1)*sr/nFFT; \n",
    "ax.plot(freq, amp)\n",
    "ax.set_xlabel('frequency (Hz)')\n",
    "ax.set_ylabel('amplitude')"
   ]
  },
  {
   "cell_type": "code",
   "execution_count": null,
   "metadata": {},
   "outputs": [],
   "source": [
    "#plotting을 할때 y에 해당되는 값은 아는데 x의 좌표를 각각은 자세히 모름. 그걸 어떻게 알아내나?\n",
    "#range를 보면 1부터 nFFT, 1부터 100까지 만들어지겠지. 거기 sampling rate =10000을 곱해준다면 [1...100]X10000/100이 되고 그러면\n",
    "#결국 [100 200... 10000]이 나옴. 이것의 개수는 몇개? 100개. 원래 [1...100]개수와 똑같지.\n",
    "#이걸 x축으로 해서 계산. 그럼 위의 그래프가 나옴.\n",
    "#그래프에 있는 총 bar의 개수는 무엇과 같냐?(시험예시) sample의 개수!\n",
    "#그래프를 보면 왼쪽 오른쪽이 대칭으로 똑같지. sampling rate의 half만 의미가 있다는 말을 한적이 있었지? 대칭이니까...\n",
    "#그 반까지를 naiquist frequency라고 한다고 했었지.\n",
    "#우리가 그 half를 부를떄 spectrum이라고 하면 그는 각 frequency 성분들이 probing하면서 받아오는 inner product의 absolute값임.\n",
    "#그래프 예시보면 2000만큼의 성분은 조금밖에 없는데 500정도에서의 크기는 엄청 많다.\n",
    "#스펙트럼은 해당 frequency에 얼만큼 있느냐의 에너지를 보여주는 Equalizerr같은 것."
   ]
  },
  {
   "cell_type": "code",
   "execution_count": null,
   "metadata": {},
   "outputs": [],
   "source": []
  }
 ],
 "metadata": {
  "kernelspec": {
   "display_name": "Python 3",
   "language": "python",
   "name": "python3"
  },
  "language_info": {
   "codemirror_mode": {
    "name": "ipython",
    "version": 3
   },
   "file_extension": ".py",
   "mimetype": "text/x-python",
   "name": "python",
   "nbconvert_exporter": "python",
   "pygments_lexer": "ipython3",
   "version": "3.7.4"
  }
 },
 "nbformat": 4,
 "nbformat_minor": 2
}
