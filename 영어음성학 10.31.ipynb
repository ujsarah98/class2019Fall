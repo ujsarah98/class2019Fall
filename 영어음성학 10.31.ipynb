{
 "cells": [
  {
   "cell_type": "code",
   "execution_count": 4,
   "metadata": {},
   "outputs": [],
   "source": [
    "import numpy as np\n",
    "import matplotlib.pyplot as plt\n",
    "#from matplotlib import pyplot as plt _시험단골질문"
   ]
  },
  {
   "cell_type": "code",
   "execution_count": 5,
   "metadata": {},
   "outputs": [
    {
     "data": {
      "text/plain": [
       "array([[-9223372036854775808,        8789202779951,           4517920771],\n",
       "       [                   0, -9223372036854775808,      844424930131968]])"
      ]
     },
     "execution_count": 5,
     "metadata": {},
     "output_type": "execute_result"
    }
   ],
   "source": [
    "np.empty([2,3], dtype='int')\n",
    "#empty는 최상단의 함수. 그렇게 중요한 함수는 아님.\n",
    "#dtype = data type\n",
    "#int를 해서 좀 긴 값이긴 하지만 그래도 소수가 붙진 않았지\n",
    "#여러번 시행하면 다 다른값이 나올거야"
   ]
  },
  {
   "cell_type": "code",
   "execution_count": 9,
   "metadata": {},
   "outputs": [
    {
     "data": {
      "text/plain": [
       "array([[0., 0., 0.],\n",
       "       [0., 0., 0.]])"
      ]
     },
     "execution_count": 9,
     "metadata": {},
     "output_type": "execute_result"
    }
   ],
   "source": [
    "np.zeros([2,3])\n",
    "#이건 좀 중요한 함수. 0으로 채워진 2by3의 매트릭스를 만드는 함수."
   ]
  },
  {
   "cell_type": "code",
   "execution_count": 10,
   "metadata": {},
   "outputs": [
    {
     "data": {
      "text/plain": [
       "array([[1, 1, 1],\n",
       "       [1, 1, 1]])"
      ]
     },
     "execution_count": 10,
     "metadata": {},
     "output_type": "execute_result"
    }
   ],
   "source": [
    "#zeros대신 ones하면 1이 6개 들어간 매트릭스가 만들어질거야\n",
    "#.이 붙은 것은 int가 아니라 float라는 뜻. 기본이 float이고 바꾸고싶으면 dtype쓰면 됨\n",
    "np.ones([2,3], dtype='int')\n",
    "#아주 정교하게 하고싶을때는 dtype = 'float64'하면 됨. 64비트. 1.00000000000...000이렇게 될 것. 단점은 메모리를 많이 차지하겠지."
   ]
  },
  {
   "cell_type": "code",
   "execution_count": 7,
   "metadata": {},
   "outputs": [
    {
     "data": {
      "text/plain": [
       "array([[0, 0, 0],\n",
       "       [0, 0, 0]])"
      ]
     },
     "execution_count": 7,
     "metadata": {},
     "output_type": "execute_result"
    }
   ],
   "source": [
    "[0, 0, 0]\n",
    "#0이 들어가있는 벡터. 리스트로 만들고 싶으면\n",
    "[[0,0,0], [0,0,0]]\n",
    "#근데 이건 아무짝에도 쓸모없는 리스트고 계산에 쓸 수 있게 하려면\n",
    "np.array([[0,0,0], [0,0,0]])\n",
    "#np.array함수를 사용해서 array로 만들어야함"
   ]
  },
  {
   "cell_type": "code",
   "execution_count": 11,
   "metadata": {},
   "outputs": [
    {
     "data": {
      "text/plain": [
       "array([0, 1, 2, 3, 4])"
      ]
     },
     "execution_count": 11,
     "metadata": {},
     "output_type": "execute_result"
    }
   ],
   "source": [
    "np.arange(5)\n",
    "#5쓰면 0부터 5개의 인덱스"
   ]
  },
  {
   "cell_type": "code",
   "execution_count": 13,
   "metadata": {},
   "outputs": [
    {
     "data": {
      "text/plain": [
       "array([0, 1, 2, 3, 4, 5, 6, 7, 8, 9])"
      ]
     },
     "execution_count": 13,
     "metadata": {},
     "output_type": "execute_result"
    }
   ],
   "source": [
    "np.arange(0,10)"
   ]
  },
  {
   "cell_type": "code",
   "execution_count": 14,
   "metadata": {},
   "outputs": [
    {
     "data": {
      "text/plain": [
       "array([0, 2, 4, 6, 8])"
      ]
     },
     "execution_count": 14,
     "metadata": {},
     "output_type": "execute_result"
    }
   ],
   "source": [
    "np.arange(0,10,2)\n",
    "#3번째 argument는 증가분이 2\n",
    "#뒤에 dtype='float'하면 .이 추가되겠지"
   ]
  },
  {
   "cell_type": "code",
   "execution_count": 15,
   "metadata": {},
   "outputs": [
    {
     "data": {
      "text/plain": [
       "array([ 0.,  2.,  4.,  6.,  8., 10.])"
      ]
     },
     "execution_count": 15,
     "metadata": {},
     "output_type": "execute_result"
    }
   ],
   "source": [
    "np.linspace(0,10,6)\n",
    "#처음과 끝을 포함해서 6개로 나누어준다"
   ]
  },
  {
   "cell_type": "code",
   "execution_count": 17,
   "metadata": {},
   "outputs": [
    {
     "data": {
      "text/plain": [
       "array([ 0.        ,  1.66666667,  3.33333333,  5.        ,  6.66666667,\n",
       "        8.33333333, 10.        ])"
      ]
     },
     "execution_count": 17,
     "metadata": {},
     "output_type": "execute_result"
    }
   ],
   "source": [
    "np.linspace(0,10,7)\n",
    "#처음과 끝 포함해서 7개로 나누었음."
   ]
  },
  {
   "cell_type": "code",
   "execution_count": 21,
   "metadata": {},
   "outputs": [
    {
     "data": {
      "text/plain": [
       "array([[1, 2],\n",
       "       [4, 5],\n",
       "       [8, 9]])"
      ]
     },
     "execution_count": 21,
     "metadata": {},
     "output_type": "execute_result"
    }
   ],
   "source": [
    "X = np.array([[1,2],[4,5],[8,9]])\n",
    "X\n",
    "#[[대괄호가 두개 있는거 보고 아 이거 2차원이구나 알면 됨.\n",
    "#대괄호가 세개면 3차원"
   ]
  },
  {
   "cell_type": "code",
   "execution_count": 23,
   "metadata": {},
   "outputs": [
    {
     "data": {
      "text/plain": [
       "array([[[1, 2],\n",
       "        [4, 5],\n",
       "        [8, 9]],\n",
       "\n",
       "       [[1, 2],\n",
       "        [4, 5],\n",
       "        [8, 9]]])"
      ]
     },
     "execution_count": 23,
     "metadata": {},
     "output_type": "execute_result"
    }
   ],
   "source": [
    "X = np.array([[[1,2],[4,5],[8,9]],[[1,2],[4,5],[8,9]]])\n",
    "X\n",
    "#대괄호가 세개면 3차원\n",
    "#이걸 실제로 눈으로 확인하고싶다면? ndim이나 shape"
   ]
  },
  {
   "cell_type": "code",
   "execution_count": 24,
   "metadata": {},
   "outputs": [
    {
     "data": {
      "text/plain": [
       "3"
      ]
     },
     "execution_count": 24,
     "metadata": {},
     "output_type": "execute_result"
    }
   ],
   "source": [
    "X.ndim\n",
    "#아 이건 3차원 이구나~"
   ]
  },
  {
   "cell_type": "code",
   "execution_count": 25,
   "metadata": {},
   "outputs": [
    {
     "data": {
      "text/plain": [
       "(2, 3, 2)"
      ]
     },
     "execution_count": 25,
     "metadata": {},
     "output_type": "execute_result"
    }
   ],
   "source": [
    "X.shape\n",
    "#2X3X2의 차원이다라고 더 구체적으로 나옴. 3X2 2차원짜리 직사각형(3,2)이 2(맨앞의 2)개 있더라."
   ]
  },
  {
   "cell_type": "code",
   "execution_count": 26,
   "metadata": {},
   "outputs": [
    {
     "data": {
      "text/plain": [
       "dtype('int64')"
      ]
     },
     "execution_count": 26,
     "metadata": {},
     "output_type": "execute_result"
    }
   ],
   "source": [
    "X.dtype"
   ]
  },
  {
   "cell_type": "code",
   "execution_count": 27,
   "metadata": {},
   "outputs": [
    {
     "data": {
      "text/plain": [
       "array([[[1., 2.],\n",
       "        [4., 5.],\n",
       "        [8., 9.]],\n",
       "\n",
       "       [[1., 2.],\n",
       "        [4., 5.],\n",
       "        [8., 9.]]])"
      ]
     },
     "execution_count": 27,
     "metadata": {},
     "output_type": "execute_result"
    }
   ],
   "source": [
    "X.astype(np.float64)\n",
    "#타입을 바꾸고 싶을때 astype사용."
   ]
  },
  {
   "cell_type": "code",
   "execution_count": 28,
   "metadata": {},
   "outputs": [
    {
     "data": {
      "text/plain": [
       "array([[[0, 0],\n",
       "        [0, 0],\n",
       "        [0, 0]],\n",
       "\n",
       "       [[0, 0],\n",
       "        [0, 0],\n",
       "        [0, 0]]])"
      ]
     },
     "execution_count": 28,
     "metadata": {},
     "output_type": "execute_result"
    }
   ],
   "source": [
    "np.zeros_like(X)\n",
    "#생긴건 똑같은데 0으로 바꿔줬지? 근데 그냥 X*0해도 돼서 별로 유용한 함수는 아님."
   ]
  },
  {
   "cell_type": "code",
   "execution_count": 31,
   "metadata": {},
   "outputs": [
    {
     "data": {
      "text/plain": [
       "array([[[1, 2],\n",
       "        [4, 5],\n",
       "        [8, 9]],\n",
       "\n",
       "       [[1, 2],\n",
       "        [4, 5],\n",
       "        [8, 9]]])"
      ]
     },
     "execution_count": 31,
     "metadata": {},
     "output_type": "execute_result"
    }
   ],
   "source": [
    "X"
   ]
  },
  {
   "cell_type": "code",
   "execution_count": 30,
   "metadata": {},
   "outputs": [
    {
     "data": {
      "text/plain": [
       "array([[[0, 0],\n",
       "        [0, 0],\n",
       "        [0, 0]],\n",
       "\n",
       "       [[0, 0],\n",
       "        [0, 0],\n",
       "        [0, 0]]])"
      ]
     },
     "execution_count": 30,
     "metadata": {},
     "output_type": "execute_result"
    }
   ],
   "source": [
    "X*0\n",
    "#생긴건 똑같은데 0으로 바꿔줌."
   ]
  },
  {
   "cell_type": "code",
   "execution_count": 37,
   "metadata": {},
   "outputs": [
    {
     "name": "stdout",
     "output_type": "stream",
     "text": [
      "[ 0.05196439  0.32366097 -0.67117452  1.78526566  0.41641846  1.69565365\n",
      "  0.45675487  0.77760019  0.93444329  0.23157039  0.47834265  1.97572205\n",
      "  0.53977061  0.81896562  0.27212262  0.41001414 -0.40700087 -0.04206582\n",
      " -0.40249182  0.77034766 -0.92670562  0.32494769 -0.61212955 -2.55324636\n",
      " -1.08697088 -0.91399485 -0.16580127  0.4287339  -1.37218461  0.31691391\n",
      " -1.53128784 -1.202865    0.53876138 -0.54079873 -0.31836581 -0.67262172\n",
      " -0.31239415  1.36558582 -0.96380965 -1.71270686 -0.84217517 -0.93011642\n",
      "  1.22607383  0.11275718 -0.40539121  0.04965151 -0.46665559  0.43750063\n",
      "  0.80572906  0.18837289 -1.34309889  0.14864512  1.02931338 -0.24954049\n",
      "  0.2570256  -0.43520935  0.59945714  0.90569551 -1.06648816 -0.49625705\n",
      "  0.41045719  0.07687956 -0.61738364 -0.9197344  -2.12907499  0.15930392\n",
      " -0.94363134  0.6857915   0.69377874 -0.50921802 -1.30591684 -1.94709719\n",
      " -0.05150565  0.90859314  1.30530252  0.75490301 -1.38270432  0.41195397\n",
      "  0.22878658  0.26196691  0.6477293  -0.24791416  1.51848392  0.01971071\n",
      " -1.50571904 -0.50221249 -0.07033226  0.16002717  0.05554139  0.25139354\n",
      "  0.90579239 -2.23003814 -0.88694065  0.06004771  0.79277932  0.79880463\n",
      "  0.925616    0.29301864  1.03154341  0.87197269]\n"
     ]
    }
   ],
   "source": [
    "data = np.random.normal(0,1,100)\n",
    "#normal = normal distribution, 정규분포를 만들어주는 함수.\n",
    "#정규분포 형태의 100개의 데이터를 니가 랜덤하게 만들어봐라.\n",
    "#종모양의 정규분포 만드려면 min=0으로\n",
    "print(data)"
   ]
  },
  {
   "cell_type": "code",
   "execution_count": 39,
   "metadata": {},
   "outputs": [
    {
     "data": {
      "text/plain": [
       "1"
      ]
     },
     "execution_count": 39,
     "metadata": {},
     "output_type": "execute_result"
    }
   ],
   "source": [
    "data.ndim\n",
    "#대괄호 하나니까 1차원"
   ]
  },
  {
   "cell_type": "code",
   "execution_count": 38,
   "metadata": {},
   "outputs": [
    {
     "data": {
      "image/png": "[encoded data removed]",
      "text/plain": [
       "<Figure size 432x288 with 1 Axes>"
      ]
     },
     "metadata": {
      "needs_background": "light"
     },
     "output_type": "display_data"
    }
   ],
   "source": [
    "plt.hist(data, bins=10)\n",
    "plt.show()\n",
    "#plt는 matplotlib안에있는 pyplot이라는 서브 패키지.\n",
    "#plt패키지 안에있는 hist라는 함수 사용. 히스토그램(도수분포표)\n",
    "#hist안의 bins = 바구니를 몇개로 할것인가? 데이터값을 바구니 안에 넣는 것.\n",
    "#이 범위의 모든 값들을 다합하면 100개. _ 시험문제 가능"
   ]
  },
  {
   "cell_type": "code",
   "execution_count": 40,
   "metadata": {},
   "outputs": [
    {
     "data": {
      "text/plain": [
       "array([[[1., 1., 1., 1.],\n",
       "        [1., 1., 1., 1.],\n",
       "        [1., 1., 1., 1.]],\n",
       "\n",
       "       [[1., 1., 1., 1.],\n",
       "        [1., 1., 1., 1.],\n",
       "        [1., 1., 1., 1.]]])"
      ]
     },
     "execution_count": 40,
     "metadata": {},
     "output_type": "execute_result"
    }
   ],
   "source": [
    "X=np.ones([2,3,4])\n",
    "X\n",
    "#대괄호는 차원의 숫자와 같으며 3차원은 2차원이 3개 쌓인거, 4차원은 3차원이 4개 쌓인거라고 생각하면 됨.\n",
    "#이건 지금 3차원이지"
   ]
  },
  {
   "cell_type": "code",
   "execution_count": 42,
   "metadata": {},
   "outputs": [
    {
     "data": {
      "text/plain": [
       "array([[[1., 1.],\n",
       "        [1., 1.],\n",
       "        [1., 1.]],\n",
       "\n",
       "       [[1., 1.],\n",
       "        [1., 1.],\n",
       "        [1., 1.]],\n",
       "\n",
       "       [[1., 1.],\n",
       "        [1., 1.],\n",
       "        [1., 1.]],\n",
       "\n",
       "       [[1., 1.],\n",
       "        [1., 1.],\n",
       "        [1., 1.]]])"
      ]
     },
     "execution_count": 42,
     "metadata": {},
     "output_type": "execute_result"
    }
   ],
   "source": [
    "Y = X.reshape(-1,3,2)\n",
    "Y\n",
    "#reshape은 아주 중요한 함수.\n",
    "#위의 2,3,4짜리인 X를 -1,3,2형태로 바꾸는 것. 근데 element가 24개인거로면 바꿀 수 있음(1,6,4). 바꿀수있는 차원으로만 갈 수 있음.\n",
    "#그게 다르면 reshape함수는 오류가 남. 얘는 4,3,2로 해야 되는데 3,2만알고 나머지 하나 음 모르겠다 싶으면 걍 -1 넣어도 됨.(인수분해 귀찮을때)"
   ]
  },
  {
   "cell_type": "code",
   "execution_count": 43,
   "metadata": {},
   "outputs": [
    {
     "data": {
      "text/plain": [
       "array([[[1., 1.],\n",
       "        [1., 1.],\n",
       "        [1., 1.]],\n",
       "\n",
       "       [[1., 1.],\n",
       "        [1., 1.],\n",
       "        [1., 1.]],\n",
       "\n",
       "       [[1., 1.],\n",
       "        [1., 1.],\n",
       "        [1., 1.]],\n",
       "\n",
       "       [[1., 1.],\n",
       "        [1., 1.],\n",
       "        [1., 1.]]])"
      ]
     },
     "execution_count": 43,
     "metadata": {},
     "output_type": "execute_result"
    }
   ],
   "source": [
    "Y = X.reshape(4,3,2)\n",
    "Y"
   ]
  },
  {
   "cell_type": "code",
   "execution_count": 45,
   "metadata": {},
   "outputs": [
    {
     "data": {
      "text/plain": [
       "True"
      ]
     },
     "execution_count": 45,
     "metadata": {},
     "output_type": "execute_result"
    }
   ],
   "source": [
    "np.allclose(X.reshape(-1,3,2),Y)\n",
    "#allclose => 바꾼애가 원래 애랑 완전히 똑같니?"
   ]
  },
  {
   "cell_type": "code",
   "execution_count": null,
   "metadata": {},
   "outputs": [],
   "source": [
    "#assert는 몰라도돼"
   ]
  },
  {
   "cell_type": "code",
   "execution_count": 48,
   "metadata": {},
   "outputs": [],
   "source": [
    "a = np.random.randint(0,10,[2,3])\n",
    "b = np.random.random([2,3])\n",
    "#randint_0,10사이에서 숫자를 픽업하고 [2,3]의 매트릭스를 만드세요. random 또 쓰면 그냥 다 랜덤하게\n",
    "np.savez(\"test\",a,b)\n",
    "#a와 b라는 variable을 파일로 저장해놓고 쓰고싶을 때."
   ]
  },
  {
   "cell_type": "code",
   "execution_count": 49,
   "metadata": {},
   "outputs": [
    {
     "name": "stdout",
     "output_type": "stream",
     "text": [
      "ls: -: No such file or directory\r\n",
      "ls: al: No such file or directory\r\n",
      "test.npz\r\n"
     ]
    }
   ],
   "source": [
    "!ls - al test*\n",
    "#이건 파일 있나 찾는건데 안될수도. 윈도우는 안될걸."
   ]
  },
  {
   "cell_type": "code",
   "execution_count": null,
   "metadata": {},
   "outputs": [],
   "source": [
    "del a,b\n",
    "#variable a,b를 없애버림\n",
    "# %who는 몰라도 돼. 원래는 print all interactie variables. 지금 available한 variable이 뭐가 있느냐..."
   ]
  },
  {
   "cell_type": "code",
   "execution_count": 50,
   "metadata": {},
   "outputs": [
    {
     "name": "stdout",
     "output_type": "stream",
     "text": [
      "X\t Y\t a\t b\t data\t np\t plt\t \n"
     ]
    }
   ],
   "source": [
    "who"
   ]
  },
  {
   "cell_type": "code",
   "execution_count": 53,
   "metadata": {},
   "outputs": [
    {
     "data": {
      "text/plain": [
       "['arr_0', 'arr_1']"
      ]
     },
     "execution_count": 53,
     "metadata": {},
     "output_type": "execute_result"
    }
   ],
   "source": [
    "npzfiles = np.load(\"test.npz\")\n",
    "#저장한걸 불러오고\n",
    "npzfiles.files"
   ]
  },
  {
   "cell_type": "code",
   "execution_count": 54,
   "metadata": {},
   "outputs": [
    {
     "data": {
      "text/plain": [
       "array([[7, 0, 7],\n",
       "       [5, 5, 7]])"
      ]
     },
     "execution_count": 54,
     "metadata": {},
     "output_type": "execute_result"
    }
   ],
   "source": [
    "npzfiles['arr_0']\n",
    "#a에 저장된 값이 나오겠지"
   ]
  },
  {
   "cell_type": "code",
   "execution_count": 55,
   "metadata": {},
   "outputs": [
    {
     "ename": "SyntaxError",
     "evalue": "invalid syntax (<ipython-input-55-0e8e10d1bb54>, line 2)",
     "output_type": "error",
     "traceback": [
      "\u001b[0;36m  File \u001b[0;32m\"<ipython-input-55-0e8e10d1bb54>\"\u001b[0;36m, line \u001b[0;32m2\u001b[0m\n\u001b[0;31m    data = np.loadtxt(\"regression.csv\",delimiter=',',skiprows=1,dtype={'names':\"X\", \"Y\"},'formats':('f','f'))\u001b[0m\n\u001b[0m                                                                                       ^\u001b[0m\n\u001b[0;31mSyntaxError\u001b[0m\u001b[0;31m:\u001b[0m invalid syntax\n"
     ]
    }
   ],
   "source": [
    "#이 아래의 두개는 알아서 하세요\n",
    "data = np.loadtxt(\"regression.csv\",delimiter=',',skiprows=1,dtype={'names':\"X\", \"Y\"},'formats':('f','f'))\n",
    "data\n",
    "#skiprows 첫번째거는 안쓸거다(제목이니까\n"
   ]
  },
  {
   "cell_type": "code",
   "execution_count": null,
   "metadata": {},
   "outputs": [],
   "source": [
    "#누군가의 text를 저장하고 싶을때\n",
    "np.savetxt(\"regression_saved.csv\",data)"
   ]
  },
  {
   "cell_type": "code",
   "execution_count": 56,
   "metadata": {},
   "outputs": [],
   "source": [
    "#4. Inspecting\n",
    "arr = np.random.random([5,2,3])"
   ]
  },
  {
   "cell_type": "code",
   "execution_count": 57,
   "metadata": {},
   "outputs": [
    {
     "name": "stdout",
     "output_type": "stream",
     "text": [
      "<class 'numpy.ndarray'>\n",
      "5\n",
      "(5, 2, 3)\n",
      "3\n",
      "30\n",
      "float64\n"
     ]
    }
   ],
   "source": [
    "print(type(arr))\n",
    "print(len(arr))\n",
    "print(arr.shape)\n",
    "print(arr.ndim)\n",
    "print(arr.size)\n",
    "print(arr.dtype) #default타임"
   ]
  },
  {
   "cell_type": "code",
   "execution_count": 59,
   "metadata": {},
   "outputs": [],
   "source": [
    "#5.1 Arithmetic\n",
    "a =np.arange(1,5)"
   ]
  },
  {
   "cell_type": "code",
   "execution_count": null,
   "metadata": {},
   "outputs": [],
   "source": [
    "#np.matrix(a), a*b.T는 스킵할게 일단"
   ]
  },
  {
   "cell_type": "code",
   "execution_count": 61,
   "metadata": {},
   "outputs": [],
   "source": [
    "#5.2 comparison\n",
    "a = np.arange(1,10).reshape(3,3)\n",
    "b = np.arange(9,0,-1).reshape(3,3)"
   ]
  },
  {
   "cell_type": "code",
   "execution_count": 62,
   "metadata": {},
   "outputs": [
    {
     "name": "stdout",
     "output_type": "stream",
     "text": [
      "[[1 2 3]\n",
      " [4 5 6]\n",
      " [7 8 9]]\n",
      "[[9 8 7]\n",
      " [6 5 4]\n",
      " [3 2 1]]\n"
     ]
    }
   ],
   "source": [
    "print(a)\n",
    "print(b)\n",
    "#두개를 비교해보면(==, >, < 등). 이때 근데 두개의 shape과 dimension이 완전히 같아야 비교할 수 있음."
   ]
  },
  {
   "cell_type": "code",
   "execution_count": 63,
   "metadata": {},
   "outputs": [
    {
     "data": {
      "text/plain": [
       "array([[False, False, False],\n",
       "       [False,  True, False],\n",
       "       [False, False, False]])"
      ]
     },
     "execution_count": 63,
     "metadata": {},
     "output_type": "execute_result"
    }
   ],
   "source": [
    "a == b"
   ]
  },
  {
   "cell_type": "code",
   "execution_count": 64,
   "metadata": {},
   "outputs": [
    {
     "data": {
      "text/plain": [
       "array([[False, False, False],\n",
       "       [False, False,  True],\n",
       "       [ True,  True,  True]])"
      ]
     },
     "execution_count": 64,
     "metadata": {},
     "output_type": "execute_result"
    }
   ],
   "source": [
    "a>b"
   ]
  },
  {
   "cell_type": "code",
   "execution_count": 65,
   "metadata": {},
   "outputs": [
    {
     "data": {
      "text/plain": [
       "array([[ True,  True,  True],\n",
       "       [ True, False, False],\n",
       "       [False, False, False]])"
      ]
     },
     "execution_count": 65,
     "metadata": {},
     "output_type": "execute_result"
    }
   ],
   "source": [
    "a<b"
   ]
  },
  {
   "cell_type": "code",
   "execution_count": 66,
   "metadata": {},
   "outputs": [
    {
     "data": {
      "text/plain": [
       "array([[1, 2, 3],\n",
       "       [4, 5, 6],\n",
       "       [7, 8, 9]])"
      ]
     },
     "execution_count": 66,
     "metadata": {},
     "output_type": "execute_result"
    }
   ],
   "source": [
    "#5.3 Aggregate 중요\n",
    "a"
   ]
  },
  {
   "cell_type": "code",
   "execution_count": 70,
   "metadata": {},
   "outputs": [
    {
     "data": {
      "text/plain": [
       "45"
      ]
     },
     "execution_count": 70,
     "metadata": {},
     "output_type": "execute_result"
    }
   ],
   "source": [
    "a.sum()\n",
    "#a자체가 numpy가 만들어낸 산물이므로 a.sum()으로 바로 할 수 있음. 근데 함수니까 괄호해야하고, 자기자신이니까 괄호 안에 안써도 됨.\n",
    "#그냥 다 더하는거 둘다 결과 똑같음.\n",
    "np.sum(a)"
   ]
  },
  {
   "cell_type": "code",
   "execution_count": 72,
   "metadata": {},
   "outputs": [
    {
     "data": {
      "text/plain": [
       "(array([12, 15, 18]), array([12, 15, 18]))"
      ]
     },
     "execution_count": 72,
     "metadata": {},
     "output_type": "execute_result"
    }
   ],
   "source": [
    "a.sum(axis=0), np.sum(a,axis=0)\n",
    "#axis는 몇번째 차원에서 sum을 할것이냐. 0은 첫번째 차원에서 하라는 것. 기본 a2차원에서 위아래로 눌러서 합친거. 1+4+7 / 2+5+8 / 7+8+9 이런식으로"
   ]
  },
  {
   "cell_type": "code",
   "execution_count": 74,
   "metadata": {},
   "outputs": [
    {
     "data": {
      "text/plain": [
       "array([[ 1,  2,  3,  4,  5,  6],\n",
       "       [ 7,  8,  9, 10, 11, 12],\n",
       "       [13, 14, 15, 16, 17, 18],\n",
       "       [19, 20, 21, 22, 23, 24]])"
      ]
     },
     "execution_count": 74,
     "metadata": {},
     "output_type": "execute_result"
    }
   ],
   "source": [
    "#Broadcasting\n",
    "a = np.arange(1,25).reshape(4,6)\n",
    "a"
   ]
  },
  {
   "cell_type": "code",
   "execution_count": 75,
   "metadata": {},
   "outputs": [
    {
     "data": {
      "text/plain": [
       "array([[101, 102, 103, 104, 105, 106],\n",
       "       [107, 108, 109, 110, 111, 112],\n",
       "       [113, 114, 115, 116, 117, 118],\n",
       "       [119, 120, 121, 122, 123, 124]])"
      ]
     },
     "execution_count": 75,
     "metadata": {},
     "output_type": "execute_result"
    }
   ],
   "source": [
    "a + 100"
   ]
  },
  {
   "cell_type": "code",
   "execution_count": 76,
   "metadata": {},
   "outputs": [
    {
     "data": {
      "text/plain": [
       "array([0, 1, 2, 3, 4, 5])"
      ]
     },
     "execution_count": 76,
     "metadata": {},
     "output_type": "execute_result"
    }
   ],
   "source": [
    "b = np.arange(6)\n",
    "b"
   ]
  },
  {
   "cell_type": "code",
   "execution_count": 77,
   "metadata": {},
   "outputs": [
    {
     "data": {
      "text/plain": [
       "array([[ 1,  3,  5,  7,  9, 11],\n",
       "       [ 7,  9, 11, 13, 15, 17],\n",
       "       [13, 15, 17, 19, 21, 23],\n",
       "       [19, 21, 23, 25, 27, 29]])"
      ]
     },
     "execution_count": 77,
     "metadata": {},
     "output_type": "execute_result"
    }
   ],
   "source": [
    "a + b\n",
    "#a의 차원이 4 by 6고 b는 그냥 6지. 근데도 이렇게 더하기가 되며 이것이 바로 broadcasting임. 그렇게 중요하진 않음."
   ]
  },
  {
   "cell_type": "code",
   "execution_count": null,
   "metadata": {},
   "outputs": [],
   "source": []
  },
  {
   "cell_type": "code",
   "execution_count": null,
   "metadata": {},
   "outputs": [],
   "source": []
  }
 ],
 "metadata": {
  "kernelspec": {
   "display_name": "Python 3",
   "language": "python",
   "name": "python3"
  },
  "language_info": {
   "codemirror_mode": {
    "name": "ipython",
    "version": 3
   },
   "file_extension": ".py",
   "mimetype": "text/x-python",
   "name": "python",
   "nbconvert_exporter": "python",
   "pygments_lexer": "ipython3",
   "version": "3.7.4"
  }
 },
 "nbformat": 4,
 "nbformat_minor": 2
}
